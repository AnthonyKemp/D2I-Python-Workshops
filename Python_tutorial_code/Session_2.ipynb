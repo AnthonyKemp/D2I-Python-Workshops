{
 "cells": [
  {
   "cell_type": "code",
   "execution_count": 7,
   "metadata": {},
   "outputs": [
    {
     "name": "stdout",
     "output_type": "stream",
     "text": [
      "<class 'list'>\n",
      "green\n",
      "['red', 'blue', 'green', 'purple']\n",
      "['red', 'blue', 'green', 'purple', ['turquiose', 'teal']]\n",
      "['red', 'blue', 'green', 'purple', ['turquiose', 'teal'], 'turquiose', 'teal']\n",
      "['red', 'blue', 'green', 'purple', ['turquiose', 'teal'], 'turquiose', 'teal', 'purple', 'purple', 'purple']\n",
      "['red', 'blue', 'green', ['turquiose', 'teal'], 'turquiose', 'teal', 'purple', 'purple', 'purple']\n",
      "['red', 'blue', 'green', ['turquiose', 'teal'], 'turquiose', 'teal', 'purple', 'purple']\n",
      "['red', 'blue', 'green', ['turquiose', 'teal'], 'turquiose', 'teal', 'purple']\n",
      "['red', 'blue', 'green', ['turquiose', 'teal'], 'turquiose', 'teal']\n"
     ]
    }
   ],
   "source": [
    "#lists\n",
    "list_1 = []\n",
    "print(type(list_1))\n",
    "\n",
    "colours = [\"red\", \"blue\", \"green\"]\n",
    "print(colours[-1])\n",
    "\n",
    "colours.append(\"purple\")\n",
    "print(colours)\n",
    "\n",
    "extra_colours = [\"turquiose\", \"teal\"]\n",
    "colours.append(extra_colours)\n",
    "print(colours)\n",
    "\n",
    "colours.extend(extra_colours)\n",
    "print(colours)\n",
    "\n",
    "colours.extend([\"purple\", \"purple\", \"purple\"])\n",
    "print(colours)\n",
    "\n",
    "colours.remove(\"purple\")\n",
    "print(colours)\n",
    "\n",
    "colours.remove(\"purple\")\n",
    "print(colours)\n",
    "colours.remove(\"purple\")\n",
    "print(colours)\n",
    "colours.remove(\"purple\")\n",
    "print(colours)\n",
    "\n"
   ]
  },
  {
   "cell_type": "code",
   "execution_count": 14,
   "metadata": {},
   "outputs": [
    {
     "name": "stdout",
     "output_type": "stream",
     "text": [
      "['ham', 'bread', 'butter']\n",
      "['ham', 'bread', 'butter', 'mayo']\n",
      "['cheese', 'pickle', 'pizza']\n",
      "['cheese', 'pickle', 'pizza', 'yogurt']\n",
      "['cheese', 'pizza', 'yogurt']\n"
     ]
    }
   ],
   "source": [
    "FoodList = [\"ham\", \"bread\", \"butter\"]\n",
    "print(FoodList)\n",
    "\n",
    "FoodList.append(\"mayo\")\n",
    "print(FoodList)\n",
    "\n",
    "FoodList2 = [\"cheese\", \"pickle\", \"pizza\"]\n",
    "print(FoodList2)\n",
    "\n",
    "FoodList2.extend([\"yogurt\"])\n",
    "print(FoodList2)\n",
    "\n",
    "FoodList2.remove(\"pickle\")\n",
    "print(FoodList2)\n"
   ]
  },
  {
   "cell_type": "code",
   "execution_count": 18,
   "metadata": {},
   "outputs": [
    {
     "name": "stdout",
     "output_type": "stream",
     "text": [
      "[2, 5, 7, 3, 1, 6, 4, 9]\n",
      "[1, 2, 3, 4, 5, 6, 7, 9]\n",
      "[9, 7, 6, 5, 4, 3, 2, 1]\n",
      "[1, 2, 3, 4, 5, 6, 7, 9]\n"
     ]
    }
   ],
   "source": [
    "numbers = [2, 5, 7, 3, 1, 6, 4, 9]\n",
    "print(numbers)\n",
    "\n",
    "numbers.sort()\n",
    "print(numbers)\n",
    "\n",
    "numbers.sort(reverse=True)\n",
    "print(numbers)\n",
    "\n",
    "sorted_numbers = sorted(numbers)\n",
    "print(sorted_numbers)"
   ]
  },
  {
   "cell_type": "code",
   "execution_count": 29,
   "metadata": {},
   "outputs": [
    {
     "name": "stdout",
     "output_type": "stream",
     "text": [
      "{'Name': 'Anthony', 'Age': 33, 'Pets': 0, 'Food': ['cheese', 'pizza', 'yogurt'], 'Sport': 'Cycling'}\n",
      "Cycling\n",
      "['cheese', 'pizza', 'yogurt']\n"
     ]
    }
   ],
   "source": [
    "#dictionaries\n",
    "anthony  = {\"Name\":\"Anthony\",\n",
    "        \"Age\":33,\n",
    "        \"Pets\":0,\n",
    "        \"Food\": FoodList2,\n",
    "        \"Sport\":\"Cycling\"}\n",
    "print(anthony)\n",
    "\n",
    "print(anthony[\"Sport\"])\n",
    "print(anthony[\"Food\"])"
   ]
  },
  {
   "cell_type": "code",
   "execution_count": 47,
   "metadata": {},
   "outputs": [
    {
     "name": "stdout",
     "output_type": "stream",
     "text": [
      "{'Will': 'Purple', 'Andy': ['Purple', 'Teal'], 'Annie': {'Monday': 'Red', 'Rest of the week': ['red', 'blue', 'green', ['turquiose', 'teal'], 'turquiose', 'teal']}, 'Naiomi': 'Yellow'}\n",
      "{'Will': 'Purple', 'Andy': ['Purple', 'Teal'], 'Annie': 'Gold', 'Naiomi': 'Yellow'}\n",
      "False\n"
     ]
    }
   ],
   "source": [
    "fav_cols = {\"Will\":\"Purple\",\n",
    "            \"Andy\":[\"Purple\", \"Teal\"],\n",
    "            \"Annie\":{\"Monday\":\"Red\", \"Rest of the week\":colours}\n",
    "            }\n",
    "#print(fav_cols[\"Andy\"][0])\n",
    "#print(fav_cols[\"Annie\"][\"Rest of the week\"][-2])\n",
    "#print(fav_cols.keys())\n",
    "#print(fav_cols.values())\n",
    "#print(fav_cols.items())\n",
    "\n",
    "#adding to dictionaries\n",
    "fav_cols[\"Naiomi\"] = \"Yellow\"\n",
    "print(fav_cols)\n",
    "\n",
    "fav_cols[\"Annie\"] = \"Gold\"\n",
    "print(fav_cols)\n",
    "\n",
    "print(\"annie\" in fav_cols)\n"
   ]
  },
  {
   "cell_type": "code",
   "execution_count": 53,
   "metadata": {},
   "outputs": [
    {
     "name": "stdout",
     "output_type": "stream",
     "text": [
      "{'Anthony': 'Lead Performance Analyst', 'Terry': 'Senior Analyst', 'Paul': {'Job': 'Insight Manager - Intelligence', 'Team': 'Insight'}}\n",
      "dict_keys(['Anthony', 'Terry', 'Paul'])\n",
      "dict_values(['Lead Performance Analyst', 'Senior Analyst', {'Job': 'Insight Manager - Intelligence', 'Team': 'Insight'}])\n",
      "dict_items([('Anthony', 'Lead Performance Analyst'), ('Terry', 'Senior Analyst'), ('Paul', {'Job': 'Insight Manager - Intelligence', 'Team': 'Insight'})])\n",
      "{'Anthony': 'Lead Performance Analyst', 'Terry': 'Senior Analyst', 'Paul': {'Job': 'Insight Manager - Intelligence', 'Team': 'Insight'}, 'Michael': 'Lead Performance Analyst'}\n",
      "{'Anthony': 'Lead Performance Analyst', 'Terry': 'Senior Analyst', 'Paul': 'Insight Manager - Intelligence', 'Michael': 'Lead Performance Analyst'}\n"
     ]
    }
   ],
   "source": [
    "jobs = {\"Anthony\":\"Lead Performance Analyst\",\n",
    "            \"Terry\":\"Senior Analyst\",\n",
    "            \"Paul\":{\"Job\":\"Insight Manager - Intelligence\", \"Team\":\"Insight\"}\n",
    "            }\n",
    "\n",
    "print(jobs)\n",
    "print(jobs.keys())\n",
    "print(jobs.values())\n",
    "print(jobs.items())\n",
    "\n",
    "jobs[\"Michael\"] = \"Lead Performance Analyst\"\n",
    "print(jobs)\n",
    "\n",
    "jobs[\"Paul\"] = \"Insight Manager - Intelligence\"\n",
    "print(jobs)\n",
    "\n"
   ]
  }
 ],
 "metadata": {
  "kernelspec": {
   "display_name": "Python 3",
   "language": "python",
   "name": "python3"
  },
  "language_info": {
   "codemirror_mode": {
    "name": "ipython",
    "version": 3
   },
   "file_extension": ".py",
   "mimetype": "text/x-python",
   "name": "python",
   "nbconvert_exporter": "python",
   "pygments_lexer": "ipython3",
   "version": "3.10.13"
  }
 },
 "nbformat": 4,
 "nbformat_minor": 2
}
