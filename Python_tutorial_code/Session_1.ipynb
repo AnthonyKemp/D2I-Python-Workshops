{
 "cells": [
  {
   "cell_type": "code",
   "execution_count": 16,
   "metadata": {},
   "outputs": [
    {
     "name": "stdout",
     "output_type": "stream",
     "text": [
      "Hello world! What is x + y? 15\n",
      "Hello! x + y =  15\n",
      "2.0\n"
     ]
    }
   ],
   "source": [
    "x = 5\n",
    "y = 10\n",
    "\n",
    "z = x + y\n",
    "\n",
    "print(\"Hello world! What is x + y?\", z)\n",
    "print(\"Hello! x + y = \", z) \n",
    "\n",
    "j = y / x\n",
    "print(j)"
   ]
  },
  {
   "cell_type": "code",
   "execution_count": 25,
   "metadata": {},
   "outputs": [
    {
     "name": "stdout",
     "output_type": "stream",
     "text": [
      "10\n"
     ]
    }
   ],
   "source": [
    "x = 5\n",
    "x = 10\n",
    "print(x)"
   ]
  },
  {
   "cell_type": "code",
   "execution_count": 29,
   "metadata": {},
   "outputs": [
    {
     "name": "stdout",
     "output_type": "stream",
     "text": [
      "4\n",
      "12.56\n",
      "12.56\n"
     ]
    }
   ],
   "source": [
    "r = 2\n",
    "pi = 3.14\n",
    "r2 = r**2\n",
    "a = pi * r2 # area of circle (A) = πr2\n",
    "\n",
    "print(r2)\n",
    "print(a)\n",
    "print(pi * (r**2))"
   ]
  },
  {
   "cell_type": "code",
   "execution_count": 48,
   "metadata": {},
   "outputs": [
    {
     "name": "stdout",
     "output_type": "stream",
     "text": [
      "My name is Anthony, I'm a Lead Performance Analyst, and I've had the role for 1 year(s).\n"
     ]
    }
   ],
   "source": [
    "name = \"Anthony\"\n",
    "job = \"Lead Performance Analyst\"\n",
    "Years_in_Role = 1\n",
    "\n",
    "outcome = f\"My name is {name}, I'm a {job}, and I've had the role for {Years_in_Role} year(s).\"\n",
    "\n",
    "print(outcome)"
   ]
  },
  {
   "cell_type": "code",
   "execution_count": 57,
   "metadata": {},
   "outputs": [
    {
     "name": "stdout",
     "output_type": "stream",
     "text": [
      "3\n",
      "7\n",
      "456\n",
      "4567\n",
      "13579\n",
      "987654321\n"
     ]
    }
   ],
   "source": [
    "num_string = \"123456789\"\n",
    "\n",
    "# you start counting from 0\n",
    "sub_string = num_string[2]\n",
    "print(sub_string)\n",
    "\n",
    "# minus is fro RHS\n",
    "sub_stringRHS = num_string[-3]\n",
    "print(sub_stringRHS)\n",
    "\n",
    "# start is inclusive, stop (-3) is exclusive\n",
    "sub_range = num_string[3:-3]\n",
    "print(sub_range)\n",
    "\n",
    "sub_range2 = num_string[3:7]\n",
    "print(sub_range2)\n",
    "\n",
    "# step\n",
    "step_range = num_string[::2]\n",
    "print(step_range)\n",
    "\n",
    "# reverse\n",
    "reverse = num_string[-1::-1]\n",
    "print(reverse)"
   ]
  },
  {
   "cell_type": "code",
   "execution_count": 75,
   "metadata": {},
   "outputs": [
    {
     "name": "stdout",
     "output_type": "stream",
     "text": [
      "dog\n",
      "cat \n",
      "racoon\n"
     ]
    }
   ],
   "source": [
    "slice_this_phrase = 'dog cat racoon'\n",
    "\n",
    "dog = slice_this_phrase[0:3] \n",
    "print(dog)\n",
    "\n",
    "cat = slice_this_phrase[4:8]\n",
    "print(cat)\n",
    "\n",
    "racoon = slice_this_phrase[-6:]\n",
    "print(racoon)"
   ]
  }
 ],
 "metadata": {
  "kernelspec": {
   "display_name": "Python 3",
   "language": "python",
   "name": "python3"
  },
  "language_info": {
   "codemirror_mode": {
    "name": "ipython",
    "version": 3
   },
   "file_extension": ".py",
   "mimetype": "text/x-python",
   "name": "python",
   "nbconvert_exporter": "python",
   "pygments_lexer": "ipython3",
   "version": "3.10.13"
  }
 },
 "nbformat": 4,
 "nbformat_minor": 2
}
